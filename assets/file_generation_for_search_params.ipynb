{
 "cells": [
  {
   "cell_type": "code",
   "execution_count": null,
   "metadata": {
    "collapsed": true
   },
   "outputs": [],
   "source": [
    "import os\n",
    "search = 'draft_search.txt'\n",
    "params = 'draft_params.txt'\n",
    "bleu = 'compute_bleu.sh'"
   ]
  },
  {
   "cell_type": "code",
   "execution_count": null,
   "metadata": {
    "collapsed": true
   },
   "outputs": [],
   "source": [
    "batch = [128]\n",
    "epochs4batch = [14]\n",
    "hidden = [350]"
   ]
  },
  {
   "cell_type": "code",
   "execution_count": null,
   "metadata": {
    "collapsed": true
   },
   "outputs": [],
   "source": [
    "with open(search, 'w') as f:\n",
    "    for h in hidden:\n",
    "        for i, b in enumerate(batch):\n",
    "            f.write('PARAMS=ner_h' + str(h) + '_setting5_batch' + str(b) + '\\n')\n",
    "            f.write('MODEL_DIR=./store_model/$PARAMS\\n')\n",
    "            f.write('NUM_EPOCHS=' + str(epochs4batch[i]) + '\\n')\n",
    "            f.write('python main.py --model_dir=$MODEL_DIR --params=$PARAMS --num_epochs=$NUM_EPOCHS\\n\\n')          "
   ]
  },
  {
   "cell_type": "code",
   "execution_count": null,
   "metadata": {
    "scrolled": true
   },
   "outputs": [],
   "source": [
    "with open(params, 'w') as f:\n",
    "    for h in hidden:\n",
    "        for i, b in enumerate(batch):\n",
    "            f.write('def ner_h' + str(h) + '_setting5_batch' + str(b) + '():\\n')\n",
    "            f.write('    params = basic_params()\\n')\n",
    "            f.write('    params.hidden_size = ' + str(h) + '\\n')\n",
    "            f.write('    params.batch_size = ' + str(b) + '\\n')\n",
    "            f.write('    return params\\n\\n')       "
   ]
  },
  {
   "cell_type": "code",
   "execution_count": null,
   "metadata": {
    "collapsed": true
   },
   "outputs": [],
   "source": [
    "with open(bleu, 'w') as f:\n",
    "    for h in hidden:\n",
    "        for i, b in enumerate(batch):\n",
    "            setting_name = 'h' + str(h) + '_setting5_batch' + str(b)\n",
    "            if os.path.exists('store_model/' + setting_name):\n",
    "                f.write('PARAMS=' + setting_name + '\\n')\n",
    "                f.write('MODEL_DIR=./store_model/$PARAMS\\n')\n",
    "                f.write('PRED_DIR=result/' + setting_name + '.txt\\n') \n",
    "                f.write('python main.py --mode=\\'pred\\' --model_dir=$MODEL_DIR --params=$PARAMS --pred_dir=$PRED_DIR\\n')\n",
    "                f.write('echo ' + setting_name + ' >> bleu_all.txt\\n')\n",
    "                f.write('perl result/bleu result/mpqg_test.txt < result/' + setting_name + '.txt' + ' >> bleu_all.txt\\n')\n",
    "                f.write('python remove_repetition.py --source_file=result/' + setting_name + '.txt' + '\\n')\n",
    "                f.write('perl result/bleu result/mpqg_test.txt < result/squad.mod >> bleu_all.txt\\n')   \n",
    "                f.write('echo -e >> bleu_all.txt\\n\\n')"
   ]
  },
  {
   "cell_type": "code",
   "execution_count": null,
   "metadata": {
    "collapsed": true
   },
   "outputs": [],
   "source": [
    "# ner, temp, for multi experiment for the same setting\n",
    "with open(bleu, 'w') as f:\n",
    "    for h in hidden:\n",
    "        for i, b in enumerate(batch):\n",
    "            for kk in [1,2,3,4]:\n",
    "                setting_name = 'ner_h' + str(h) + '_setting5_batch' + str(b) + '_' + str(kk)\n",
    "                if os.path.exists('store_model/' + setting_name):\n",
    "                    f.write('PARAMS=' + setting_name + '\\n')\n",
    "                    f.write('MODEL_DIR=./store_model/$PARAMS\\n')\n",
    "                    f.write('PRED_DIR=result/' + setting_name + '.txt\\n') \n",
    "                    f.write('python main.py --mode=\\'pred\\' --model_dir=$MODEL_DIR --params=$PARAMS --pred_dir=$PRED_DIR\\n')\n",
    "                    f.write('echo ' + setting_name + ' >> bleu_all.txt\\n')\n",
    "                    f.write('perl result/bleu result/mpqg_ner_test.txt < result/' + setting_name + '.txt' + ' >> bleu_all.txt\\n')\n",
    "                    f.write('python remove_repetition.py --source_file=result/' + setting_name + '.txt' + '\\n')\n",
    "                    f.write('perl result/bleu result/mpqg_ner_test.txt < result/squad.mod >> bleu_all.txt\\n')\n",
    "                    f.write('python replace_tag_with_tok.py --source_file=result/squad.mod\\n')\n",
    "                    f.write('perl result/bleu result/mpqg_ner_test_origin.txt < result/squad.tok >> bleu_all.txt\\n')\n",
    "                    f.write('echo -e >> bleu_all.txt\\n\\n')"
   ]
  },
  {
   "cell_type": "markdown",
   "metadata": {},
   "source": [
    "# for ner version"
   ]
  },
  {
   "cell_type": "code",
   "execution_count": null,
   "metadata": {
    "collapsed": true
   },
   "outputs": [],
   "source": [
    "with open(bleu, 'w') as f:\n",
    "    for h in hidden:\n",
    "        for i, b in enumerate(batch):\n",
    "            setting_name = 'ner_h' + str(h) + '_setting5_batch' + str(b)\n",
    "            if os.path.exists('store_model/' + setting_name):\n",
    "                f.write('PARAMS=' + setting_name + '\\n')\n",
    "                f.write('MODEL_DIR=./store_model/$PARAMS\\n')\n",
    "                f.write('PRED_DIR=result/' + setting_name + '.txt\\n') \n",
    "                f.write('python main.py --mode=\\'pred\\' --model_dir=$MODEL_DIR --params=$PARAMS --pred_dir=$PRED_DIR\\n')\n",
    "                f.write('echo ' + setting_name + ' >> bleu_all.txt\\n')\n",
    "                f.write('perl result/bleu result/mpqg_ner_test.txt < result/' + setting_name + '.txt' + ' >> bleu_all.txt\\n')\n",
    "                f.write('python remove_repetition.py --source_file=result/' + setting_name + '.txt' + '\\n')\n",
    "                f.write('perl result/bleu result/mpqg_ner_test.txt < result/squad.mod >> bleu_all.txt\\n')\n",
    "                f.write('python replace_tag_with_tok.py --source_file=result/squad.mod\\n')\n",
    "                f.write('perl result/bleu result/mpqg_ner_test_origin.txt < result/squad.tok >> bleu_all.txt\\n')\n",
    "                f.write('echo -e >> bleu_all.txt\\n\\n')"
   ]
  },
  {
   "cell_type": "code",
   "execution_count": null,
   "metadata": {
    "collapsed": true
   },
   "outputs": [],
   "source": []
  }
 ],
 "metadata": {
  "anaconda-cloud": {},
  "kernelspec": {
   "display_name": "Python [conda env:miniconda2]",
   "language": "python",
   "name": "conda-env-miniconda2-py"
  },
  "language_info": {
   "codemirror_mode": {
    "name": "ipython",
    "version": 2
   },
   "file_extension": ".py",
   "mimetype": "text/x-python",
   "name": "python",
   "nbconvert_exporter": "python",
   "pygments_lexer": "ipython2",
   "version": "2.7.15"
  }
 },
 "nbformat": 4,
 "nbformat_minor": 2
}
